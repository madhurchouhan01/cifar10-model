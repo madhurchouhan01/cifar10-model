{
  "nbformat": 4,
  "nbformat_minor": 0,
  "metadata": {
    "colab": {
      "provenance": [],
      "authorship_tag": "ABX9TyMoUHzY8F6So9RC0sfAJl7i",
      "include_colab_link": true
    },
    "kernelspec": {
      "name": "python3",
      "display_name": "Python 3"
    },
    "language_info": {
      "name": "python"
    }
  },
  "cells": [
    {
      "cell_type": "markdown",
      "metadata": {
        "id": "view-in-github",
        "colab_type": "text"
      },
      "source": [
        "<a href=\"https://colab.research.google.com/github/madhurchouhan01/cifar10-model/blob/main/CIFAR10_model.ipynb\" target=\"_parent\"><img src=\"https://colab.research.google.com/assets/colab-badge.svg\" alt=\"Open In Colab\"/></a>"
      ]
    },
    {
      "cell_type": "code",
      "source": [
        "!pip install streamlit\n",
        "!pip install tensorflow\n"
      ],
      "metadata": {
        "id": "e4BAnVFG2HOz"
      },
      "execution_count": null,
      "outputs": []
    },
    {
      "cell_type": "code",
      "execution_count": 19,
      "metadata": {
        "id": "yWtOpe-41XZT"
      },
      "outputs": [],
      "source": [
        "import numpy as np\n",
        "import matplotlib.pyplot as plt\n",
        "import streamlit as st\n",
        "from PIL import Image\n",
        "import tensorflow as tf\n",
        "from tensorflow.keras.datasets import cifar10\n",
        "from tensorflow.keras.models import Sequential\n",
        "from tensorflow.keras.layers import Flatten, Dense\n",
        "from tensorflow.keras.utils import to_categorical"
      ]
    },
    {
      "cell_type": "code",
      "source": [
        "(X_train , Y_train) ,( X_val  , Y_val) = cifar10.load_data()"
      ],
      "metadata": {
        "id": "1OLYpNl83EUm"
      },
      "execution_count": 15,
      "outputs": []
    },
    {
      "cell_type": "code",
      "source": [
        "X_train = X_train / 255\n",
        "X_val = X_val / 255"
      ],
      "metadata": {
        "id": "X4NTmnl33xFB"
      },
      "execution_count": 16,
      "outputs": []
    },
    {
      "cell_type": "code",
      "source": [
        "Y_train = to_categorical(Y_train, 10)\n",
        "Y_val = to_categorical(Y_val, 10)"
      ],
      "metadata": {
        "id": "6bIiZPyJ38zh"
      },
      "execution_count": 17,
      "outputs": []
    },
    {
      "cell_type": "code",
      "source": [
        "model = Sequential([\n",
        "    Flatten(input_shape = (32,32,3)),\n",
        "    Dense(1000, activation = 'relu'),\n",
        "    Dense(10, activation = 'softmax')\n",
        "])"
      ],
      "metadata": {
        "id": "SwVeLzBh4LyE"
      },
      "execution_count": 13,
      "outputs": []
    },
    {
      "cell_type": "code",
      "source": [
        "model.compile(\n",
        "    loss = 'categorical_crossentropy',\n",
        "    optimizer = 'adam',\n",
        "    metrics = ['acc']\n",
        ")"
      ],
      "metadata": {
        "id": "FiRevt704nWR"
      },
      "execution_count": 14,
      "outputs": []
    },
    {
      "cell_type": "code",
      "source": [
        "model.fit(X_train, Y_train, batch_size = 64, epochs = 10, validation_data = (X_val, Y_val))\n",
        "model.save('cifar10_model.h5')"
      ],
      "metadata": {
        "colab": {
          "base_uri": "https://localhost:8080/"
        },
        "id": "rylD_icQ43R5",
        "outputId": "7e2de216-b78b-4ee0-c6d0-15e070786696"
      },
      "execution_count": 18,
      "outputs": [
        {
          "output_type": "stream",
          "name": "stdout",
          "text": [
            "Epoch 1/10\n",
            "782/782 [==============================] - 42s 51ms/step - loss: 1.9521 - acc: 0.3231 - val_loss: 1.7780 - val_acc: 0.3566\n",
            "Epoch 2/10\n",
            "782/782 [==============================] - 41s 52ms/step - loss: 1.7001 - acc: 0.3962 - val_loss: 1.6625 - val_acc: 0.4037\n",
            "Epoch 3/10\n",
            "782/782 [==============================] - 40s 51ms/step - loss: 1.6145 - acc: 0.4264 - val_loss: 1.5846 - val_acc: 0.4395\n",
            "Epoch 4/10\n",
            "782/782 [==============================] - 40s 51ms/step - loss: 1.5678 - acc: 0.4437 - val_loss: 1.6096 - val_acc: 0.4283\n",
            "Epoch 5/10\n",
            "782/782 [==============================] - 40s 51ms/step - loss: 1.5414 - acc: 0.4519 - val_loss: 1.5481 - val_acc: 0.4446\n",
            "Epoch 6/10\n",
            "782/782 [==============================] - 43s 55ms/step - loss: 1.5080 - acc: 0.4638 - val_loss: 1.5468 - val_acc: 0.4572\n",
            "Epoch 7/10\n",
            "782/782 [==============================] - 42s 54ms/step - loss: 1.4886 - acc: 0.4712 - val_loss: 1.5031 - val_acc: 0.4644\n",
            "Epoch 8/10\n",
            "782/782 [==============================] - 40s 51ms/step - loss: 1.4702 - acc: 0.4799 - val_loss: 1.4964 - val_acc: 0.4656\n",
            "Epoch 9/10\n",
            "782/782 [==============================] - 41s 52ms/step - loss: 1.4440 - acc: 0.4886 - val_loss: 1.4831 - val_acc: 0.4718\n",
            "Epoch 10/10\n",
            "782/782 [==============================] - 41s 53ms/step - loss: 1.4336 - acc: 0.4922 - val_loss: 1.5010 - val_acc: 0.4631\n"
          ]
        },
        {
          "output_type": "stream",
          "name": "stderr",
          "text": [
            "/usr/local/lib/python3.10/dist-packages/keras/src/engine/training.py:3103: UserWarning: You are saving your model as an HDF5 file via `model.save()`. This file format is considered legacy. We recommend using instead the native Keras format, e.g. `model.save('my_model.keras')`.\n",
            "  saving_api.save_model(\n"
          ]
        }
      ]
    },
    {
      "cell_type": "code",
      "source": [
        "def main():\n",
        "  st.title(\"Cifar10 Web Classfier\")\n",
        "  st.write(\"Upload any image\")\n",
        "  file =st.file_uploader('Please upload an image', type = ['jpg', 'png'])\n",
        "  if file:\n",
        "    image = Image.open(file)\n",
        "    st.image(image, use_column_width = True)\n",
        "    resized_image = image.resize((32,32))\n",
        "    img_array = np.array(resized_image) / 255\n",
        "    img_array = img_array.reshape((1,32,32,3))\n",
        "    model = tf.keras.models.load_model('cifar10_model.h5')\n",
        "    predictions = model.predict(img_array)\n",
        "    cifar10_classes = ['airplane', 'automobile', 'bird', 'cat', 'deer', 'frog', 'dog', 'horse', 'ship', 'truck']\n",
        "    fig, ax = plt.subplots()\n",
        "    y_pos = np.arange(len(cifar10_classes))\n",
        "    ax.barh(y_pos,predictions[0], align = 'center')\n",
        "    ax.set_yticks(y_pos)\n",
        "    ax.set_yticklabels(cifar10_classes)\n",
        "    ax.invert_yaxis()\n",
        "    ax.set_xlabel('Probablities')\n",
        "    ax.set_title('CIFAR10 Predictions')\n",
        "\n",
        "    st.pyplot(fig)\n",
        "  else:\n",
        "    st.text('You have not uploaded an image yet')\n",
        "if __name__ == '__main__':\n",
        "  main()"
      ],
      "metadata": {
        "id": "U5Rwd9Cz8f7r"
      },
      "execution_count": 40,
      "outputs": []
    },
    {
      "cell_type": "code",
      "source": [
        "!wget -q -O - ipv4.icanhazip.com"
      ],
      "metadata": {
        "colab": {
          "base_uri": "https://localhost:8080/"
        },
        "id": "UbfyJf0uAG8e",
        "outputId": "d1f0ed12-dd83-4d25-ae35-1b75df2dccec"
      },
      "execution_count": 41,
      "outputs": [
        {
          "output_type": "stream",
          "name": "stdout",
          "text": [
            "34.67.22.230\n"
          ]
        }
      ]
    },
    {
      "cell_type": "code",
      "source": [
        "!streamlit run app.py & npx localtunnel --port 8501"
      ],
      "metadata": {
        "id": "s_vP4IpIAIJB"
      },
      "execution_count": null,
      "outputs": []
    }
  ]
}